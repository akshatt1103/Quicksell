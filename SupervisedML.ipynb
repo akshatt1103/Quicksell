{
  "cells": [
    {
      "cell_type": "markdown",
      "metadata": {
        "id": "view-in-github",
        "colab_type": "text"
      },
      "source": [
        "<a href=\"https://colab.research.google.com/github/akshatt1103/Quicksell/blob/SupervisedML/SupervisedML.ipynb\" target=\"_parent\"><img src=\"https://colab.research.google.com/assets/colab-badge.svg\" alt=\"Open In Colab\"/></a>"
      ]
    },
    {
      "cell_type": "markdown",
      "id": "98b3c1fa",
      "metadata": {
        "id": "98b3c1fa"
      },
      "source": [
        "- Prediction using Supervised ML\n"
      ]
    },
    {
      "cell_type": "markdown",
      "id": "24702ffa",
      "metadata": {
        "id": "24702ffa"
      },
      "source": [
        "# Importing Libraries"
      ]
    },
    {
      "cell_type": "code",
      "execution_count": null,
      "id": "74b467f1",
      "metadata": {
        "id": "74b467f1"
      },
      "outputs": [],
      "source": [
        "\n",
        "import pandas as pd\n",
        "import numpy as np\n",
        "import matplotlib.pyplot as plt\n",
        "\n"
      ]
    },
    {
      "cell_type": "code",
      "execution_count": null,
      "id": "a206e6ef",
      "metadata": {
        "id": "a206e6ef",
        "outputId": "f2b1647b-0cea-4181-e6fd-9992901b6622"
      },
      "outputs": [
        {
          "name": "stdout",
          "output_type": "stream",
          "text": [
            "Data imported succesfully\n"
          ]
        },
        {
          "data": {
            "text/html": [
              "<div>\n",
              "<style scoped>\n",
              "    .dataframe tbody tr th:only-of-type {\n",
              "        vertical-align: middle;\n",
              "    }\n",
              "\n",
              "    .dataframe tbody tr th {\n",
              "        vertical-align: top;\n",
              "    }\n",
              "\n",
              "    .dataframe thead th {\n",
              "        text-align: right;\n",
              "    }\n",
              "</style>\n",
              "<table border=\"1\" class=\"dataframe\">\n",
              "  <thead>\n",
              "    <tr style=\"text-align: right;\">\n",
              "      <th></th>\n",
              "      <th>Hours</th>\n",
              "      <th>Scores</th>\n",
              "    </tr>\n",
              "  </thead>\n",
              "  <tbody>\n",
              "    <tr>\n",
              "      <th>0</th>\n",
              "      <td>2.5</td>\n",
              "      <td>21</td>\n",
              "    </tr>\n",
              "    <tr>\n",
              "      <th>1</th>\n",
              "      <td>5.1</td>\n",
              "      <td>47</td>\n",
              "    </tr>\n",
              "    <tr>\n",
              "      <th>2</th>\n",
              "      <td>3.2</td>\n",
              "      <td>27</td>\n",
              "    </tr>\n",
              "    <tr>\n",
              "      <th>3</th>\n",
              "      <td>8.5</td>\n",
              "      <td>75</td>\n",
              "    </tr>\n",
              "    <tr>\n",
              "      <th>4</th>\n",
              "      <td>3.5</td>\n",
              "      <td>30</td>\n",
              "    </tr>\n",
              "    <tr>\n",
              "      <th>5</th>\n",
              "      <td>1.5</td>\n",
              "      <td>20</td>\n",
              "    </tr>\n",
              "    <tr>\n",
              "      <th>6</th>\n",
              "      <td>9.2</td>\n",
              "      <td>88</td>\n",
              "    </tr>\n",
              "    <tr>\n",
              "      <th>7</th>\n",
              "      <td>5.5</td>\n",
              "      <td>60</td>\n",
              "    </tr>\n",
              "    <tr>\n",
              "      <th>8</th>\n",
              "      <td>8.3</td>\n",
              "      <td>81</td>\n",
              "    </tr>\n",
              "    <tr>\n",
              "      <th>9</th>\n",
              "      <td>2.7</td>\n",
              "      <td>25</td>\n",
              "    </tr>\n",
              "  </tbody>\n",
              "</table>\n",
              "</div>"
            ],
            "text/plain": [
              "   Hours  Scores\n",
              "0    2.5      21\n",
              "1    5.1      47\n",
              "2    3.2      27\n",
              "3    8.5      75\n",
              "4    3.5      30\n",
              "5    1.5      20\n",
              "6    9.2      88\n",
              "7    5.5      60\n",
              "8    8.3      81\n",
              "9    2.7      25"
            ]
          },
          "execution_count": 5,
          "metadata": {},
          "output_type": "execute_result"
        }
      ],
      "source": [
        "url = \"http://bit.ly/w-data\"\n",
        "sup_data = pd.read_csv(url)\n",
        "print(\"Data imported succesfully\")\n",
        "sup_data.head(10)"
      ]
    },
    {
      "cell_type": "markdown",
      "id": "8a749771",
      "metadata": {
        "id": "8a749771"
      },
      "source": [
        "# Plotting Hours vs Score"
      ]
    },
    {
      "cell_type": "code",
      "execution_count": null,
      "id": "42151a57",
      "metadata": {
        "id": "42151a57",
        "outputId": "b8067b0e-6501-4a55-b1f1-77c485d06c37"
      },
      "outputs": [
        {
          "data": {
            "image/png": "[encoded data removed]",
            "text/plain": [
              "<Figure size 432x288 with 1 Axes>"
            ]
          },
          "metadata": {
            "needs_background": "light"
          },
          "output_type": "display_data"
        }
      ],
      "source": [
        "sup_data.plot(x = 'Hours', y = 'Scores' , style = 'o')\n",
        "plt.title(\"HOURS VS PERCENTAGE\")\n",
        "plt.xlabel('HOURS STUDIED')\n",
        "plt.ylabel('PERCENTAGE')\n",
        "plt.show()\n",
        "\n"
      ]
    },
    {
      "cell_type": "code",
      "execution_count": null,
      "id": "47cba611",
      "metadata": {
        "id": "47cba611"
      },
      "outputs": [],
      "source": [
        "'''From the graph above, we can clearly see that there is a positive\n",
        "linear relation between the number of hours studied and percentage of score.\n",
        "'''"
      ]
    },
    {
      "cell_type": "markdown",
      "id": "08333846",
      "metadata": {
        "id": "08333846"
      },
      "source": [
        "# Preparing the Data"
      ]
    },
    {
      "cell_type": "code",
      "execution_count": null,
      "id": "2f70c037",
      "metadata": {
        "id": "2f70c037"
      },
      "outputs": [],
      "source": [
        "\n",
        "#The next step is to divide the data into \"attributes\" (inputs) and \"labels\" (outputs).\n",
        "X = sup_data.iloc[:, :-1].values\n",
        "Y = sup_data.iloc[:,1].values"
      ]
    },
    {
      "cell_type": "code",
      "execution_count": null,
      "id": "5c64d5a9",
      "metadata": {
        "id": "5c64d5a9"
      },
      "outputs": [],
      "source": [
        "'''Now that we have our attributes and labels, the next\n",
        "step is to split this data into training and test sets. We'll do this\n",
        "by using Scikit-Learn's built-in train_test_split() method:'''\n",
        "\n",
        "from sklearn.model_selection import train_test_split\n",
        "X_train,X_test,Y_train,Y_test = train_test_split(X,Y,test_size = 0.2,random_state = 0)\n",
        "\n"
      ]
    },
    {
      "cell_type": "markdown",
      "id": "3b181952",
      "metadata": {
        "id": "3b181952"
      },
      "source": [
        "# Training the Algorithm"
      ]
    },
    {
      "cell_type": "code",
      "execution_count": null,
      "id": "e903a51a",
      "metadata": {
        "id": "e903a51a",
        "outputId": "13cd3693-df5a-4901-82dc-4c3ef2ae693b"
      },
      "outputs": [
        {
          "name": "stdout",
          "output_type": "stream",
          "text": [
            "TRAINING COMPLETE\n"
          ]
        }
      ],
      "source": [
        "'''We have split our data into training and testing sets, and now is\n",
        "finally the time to train our algorithm.'''\n",
        "\n",
        "from sklearn.linear_model import LinearRegression\n",
        "clf = LinearRegression()\n",
        "clf.fit(X_train,Y_train)\n",
        "print(\"TRAINING COMPLETE\")"
      ]
    },
    {
      "cell_type": "code",
      "execution_count": null,
      "id": "9b3c05a3",
      "metadata": {
        "id": "9b3c05a3",
        "outputId": "a260a790-6f9b-43fb-c6e3-0aee813cd0b0"
      },
      "outputs": [
        {
          "data": {
            "image/png": "[encoded data removed]",
            "text/plain": [
              "<Figure size 432x288 with 1 Axes>"
            ]
          },
          "metadata": {
            "needs_background": "light"
          },
          "output_type": "display_data"
        }
      ],
      "source": [
        "\n",
        "#PLOTTING THE REGRESSION LINE\n",
        "line = clf.coef_* X+clf.intercept_\n",
        "\n",
        "# Plotting for the test data\n",
        "plt.scatter(X, Y)\n",
        "plt.plot(X, line);\n",
        "plt.show()\n",
        "\n",
        "\n"
      ]
    },
    {
      "cell_type": "markdown",
      "id": "53f8f026",
      "metadata": {
        "id": "53f8f026"
      },
      "source": [
        "# Making Predictions"
      ]
    },
    {
      "cell_type": "code",
      "execution_count": null,
      "id": "b7a8c581",
      "metadata": {
        "id": "b7a8c581",
        "outputId": "6108ced4-4c12-48bd-aae3-32e0e4189504"
      },
      "outputs": [
        {
          "name": "stdout",
          "output_type": "stream",
          "text": [
            "[[1.5]\n",
            " [3.2]\n",
            " [7.4]\n",
            " [2.5]\n",
            " [5.9]]\n"
          ]
        }
      ],
      "source": [
        "print(X_test) #TESTING DATA IN HOURS\n",
        "Y_pred = clf.predict(X_test)"
      ]
    },
    {
      "cell_type": "code",
      "execution_count": null,
      "id": "e98e1358",
      "metadata": {
        "id": "e98e1358",
        "outputId": "f1fce69a-dfa9-4fa8-bb10-3c40c5fadae0"
      },
      "outputs": [
        {
          "data": {
            "text/html": [
              "<div>\n",
              "<style scoped>\n",
              "    .dataframe tbody tr th:only-of-type {\n",
              "        vertical-align: middle;\n",
              "    }\n",
              "\n",
              "    .dataframe tbody tr th {\n",
              "        vertical-align: top;\n",
              "    }\n",
              "\n",
              "    .dataframe thead th {\n",
              "        text-align: right;\n",
              "    }\n",
              "</style>\n",
              "<table border=\"1\" class=\"dataframe\">\n",
              "  <thead>\n",
              "    <tr style=\"text-align: right;\">\n",
              "      <th></th>\n",
              "      <th>Actual</th>\n",
              "      <th>Predicted</th>\n",
              "    </tr>\n",
              "  </thead>\n",
              "  <tbody>\n",
              "    <tr>\n",
              "      <th>0</th>\n",
              "      <td>20</td>\n",
              "      <td>16.884145</td>\n",
              "    </tr>\n",
              "    <tr>\n",
              "      <th>1</th>\n",
              "      <td>27</td>\n",
              "      <td>33.732261</td>\n",
              "    </tr>\n",
              "    <tr>\n",
              "      <th>2</th>\n",
              "      <td>69</td>\n",
              "      <td>75.357018</td>\n",
              "    </tr>\n",
              "    <tr>\n",
              "      <th>3</th>\n",
              "      <td>30</td>\n",
              "      <td>26.794801</td>\n",
              "    </tr>\n",
              "    <tr>\n",
              "      <th>4</th>\n",
              "      <td>62</td>\n",
              "      <td>60.491033</td>\n",
              "    </tr>\n",
              "  </tbody>\n",
              "</table>\n",
              "</div>"
            ],
            "text/plain": [
              "   Actual  Predicted\n",
              "0      20  16.884145\n",
              "1      27  33.732261\n",
              "2      69  75.357018\n",
              "3      30  26.794801\n",
              "4      62  60.491033"
            ]
          },
          "execution_count": 15,
          "metadata": {},
          "output_type": "execute_result"
        }
      ],
      "source": [
        "# Comparing Actual vs Predicted\n",
        "df = pd.DataFrame({'Actual': Y_test, 'Predicted': Y_pred})\n",
        "df"
      ]
    },
    {
      "cell_type": "code",
      "execution_count": null,
      "id": "b70a5410",
      "metadata": {
        "id": "b70a5410",
        "outputId": "9a0c0ad3-ac73-4bf9-c16b-4b93ffd6517e"
      },
      "outputs": [
        {
          "name": "stdout",
          "output_type": "stream",
          "text": [
            "NO OF HOURS = [[9.25]]\n",
            "PREDICTED SCORE = 93.69173248737538\n"
          ]
        }
      ],
      "source": [
        "\n",
        "# NOW TESTING FOR 9.25 HOURS\n",
        "hours = [[9.25]]\n",
        "own_pred = clf.predict(hours)\n",
        "print(\"NO OF HOURS = {}\".format(hours))\n",
        "print(\"PREDICTED SCORE = {}\".format(own_pred[0]))"
      ]
    },
    {
      "cell_type": "markdown",
      "id": "32ebd730",
      "metadata": {
        "id": "32ebd730"
      },
      "source": [
        "# EVALUATING THE MODEL"
      ]
    },
    {
      "cell_type": "code",
      "execution_count": null,
      "id": "dea2fe6b",
      "metadata": {
        "id": "dea2fe6b",
        "outputId": "bac18fcf-df9a-4c4d-e005-7ad579ec3b23"
      },
      "outputs": [
        {
          "name": "stdout",
          "output_type": "stream",
          "text": [
            "MEAN ABSOLUTE ERROR: 4.183859899002975\n"
          ]
        }
      ],
      "source": [
        "from sklearn import metrics\n",
        "print(\"MEAN ABSOLUTE ERROR:\", metrics.mean_absolute_error(Y_test, Y_pred))\n"
      ]
    },
    {
      "cell_type": "markdown",
      "id": "22318b31",
      "metadata": {
        "id": "22318b31"
      },
      "source": [
        "# THANK YOU"
      ]
    },
    {
      "cell_type": "code",
      "execution_count": null,
      "id": "79ad07f0",
      "metadata": {
        "id": "79ad07f0"
      },
      "outputs": [],
      "source": []
    }
  ],
  "metadata": {
    "kernelspec": {
      "display_name": "Python 3 (ipykernel)",
      "language": "python",
      "name": "python3"
    },
    "language_info": {
      "codemirror_mode": {
        "name": "ipython",
        "version": 3
      },
      "file_extension": ".py",
      "mimetype": "text/x-python",
      "name": "python",
      "nbconvert_exporter": "python",
      "pygments_lexer": "ipython3",
      "version": "3.9.7"
    },
    "colab": {
      "provenance": [],
      "include_colab_link": true
    }
  },
  "nbformat": 4,
  "nbformat_minor": 5
}